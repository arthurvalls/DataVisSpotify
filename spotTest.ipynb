{
 "cells": [
  {
   "cell_type": "markdown",
   "metadata": {},
   "source": [
    "Imports:"
   ]
  },
  {
   "cell_type": "code",
   "execution_count": 1,
   "metadata": {},
   "outputs": [],
   "source": [
    "import spotipy\n",
    "from spotipy.oauth2 import SpotifyOAuth\n",
    "import os\n",
    "import pandas as pd\n",
    "import numpy as np\n",
    "import seaborn as sns\n",
    "import matplotlib.pyplot as plt\n",
    "from bokeh.plotting import figure\n",
    "from bokeh.io import output_notebook\n",
    "from bokeh.models import HoverTool, ColumnDataSource\n",
    "from bokeh import palettes\n",
    "import collections\n",
    "from flask import Flask\n",
    "import plotly.express as px"
   ]
  },
  {
   "cell_type": "markdown",
   "metadata": {},
   "source": [
    "Authorization and keys:"
   ]
  },
  {
   "cell_type": "code",
   "execution_count": 2,
   "metadata": {},
   "outputs": [],
   "source": [
    "cid = '8d9f7c353d334348be49fad3dbb5604c'\n",
    "secret = '0c2027d1892b4589aa863ec6f8594e21'\n",
    "scope = \"user-top-read\"\n",
    "\n",
    "\n",
    "os.environ[\"SPOTIPY_CLIENT_ID\"] = cid\n",
    "os.environ[\"SPOTIPY_CLIENT_SECRET\"] = secret\n",
    "os.environ[\"SPOTIPY_REDIRECT_URI\"] = \"http://localhost:8081\"\n",
    "\n",
    "\n",
    "sp = spotipy.Spotify(auth_manager=SpotifyOAuth(scope=scope))  "
   ]
  },
  {
   "cell_type": "markdown",
   "metadata": {},
   "source": [
    "Tests:"
   ]
  },
  {
   "cell_type": "code",
   "execution_count": 39,
   "metadata": {},
   "outputs": [],
   "source": [
    "import csv\n",
    "\n",
    "results = sp.current_user_top_artists()\n",
    "\n",
    "spotPop = ['name', 'popularity']\n",
    "\n",
    "pop = []\n",
    "for item in results['items']:\n",
    "    pop.append( {'name': item[\"name\"],'popularity': item[\"popularity\"]} )\n",
    "\n",
    "\n",
    "popsorted = reversed(sorted(pop, key=lambda d: d['popularity'])) \n",
    "\n",
    "\n",
    "with open('topArtists.csv', 'w') as csvfile:\n",
    "    writer = csv.DictWriter(csvfile, fieldnames = spotPop)\n",
    "    writer.writeheader()\n",
    "    writer.writerows(popsorted)\n"
   ]
  },
  {
   "cell_type": "code",
   "execution_count": 43,
   "metadata": {},
   "outputs": [
    {
     "name": "stdout",
     "output_type": "stream",
     "text": [
      "pop 29.2\n",
      "rap 16.7\n",
      "hip hop 16.7\n",
      "lgbtq+ hip hop 6.2\n",
      "pop rap brasileiro 6.2\n",
      "dance pop 6.2\n",
      "r&b 6.2\n",
      "uk pop 4.2\n",
      "electropop 4.2\n",
      "modern rock 4.2\n"
     ]
    }
   ],
   "source": [
    "results = sp.current_user_top_artists(limit=36, offset=0, time_range='medium_term')\n",
    "\n",
    "top_genres = ['genre']\n",
    "\n",
    "for item in results['items']:\n",
    "    top_genres.extend(item['genres'])\n",
    "\n",
    "c = collections.Counter(top_genres)\n",
    "\n",
    "sort = dict(reversed((sorted(c.items(), key=lambda x:x[1]))))\n",
    "\n",
    "top10 = dict(list(sort.items())[0: 10]) \n",
    "\n",
    "top10Genres = ['genre', 'popularity']\n",
    "genre = []\n",
    "for k, v in top10.items():\n",
    "    genre.append( {'genre': k,'popularity': v} )\n",
    "\n",
    "\n",
    "\n",
    "with open('topGenres.csv', 'w') as csvfile:\n",
    "    writer = csv.DictWriter(csvfile, fieldnames = top10Genres)\n",
    "    writer.writeheader()\n",
    "    writer.writerows(genre)\n"
   ]
  }
 ],
 "metadata": {
  "kernelspec": {
   "display_name": "Python 3.8.10 ('venv': venv)",
   "language": "python",
   "name": "python3"
  },
  "language_info": {
   "codemirror_mode": {
    "name": "ipython",
    "version": 3
   },
   "file_extension": ".py",
   "mimetype": "text/x-python",
   "name": "python",
   "nbconvert_exporter": "python",
   "pygments_lexer": "ipython3",
   "version": "3.8.10"
  },
  "orig_nbformat": 4,
  "vscode": {
   "interpreter": {
    "hash": "f81b025b5a4803d0819800d1847fa974fa9ff78c7f48f4a3fbfff52fa7c9fa71"
   }
  }
 },
 "nbformat": 4,
 "nbformat_minor": 2
}
