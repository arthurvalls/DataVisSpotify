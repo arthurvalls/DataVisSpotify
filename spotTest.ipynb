{
 "cells": [
  {
   "cell_type": "code",
   "execution_count": 6,
   "metadata": {},
   "outputs": [],
   "source": [
    "import spotipy\n",
    "from spotipy.oauth2 import SpotifyOAuth\n",
    "import os\n",
    "import pandas as pd\n",
    "\n",
    "\n",
    "cid = '8d9f7c353d334348be49fad3dbb5604c'\n",
    "secret = '0c2027d1892b4589aa863ec6f8594e21'\n",
    "scope = \"user-top-read\"\n",
    "\n",
    "\n",
    "os.environ[\"SPOTIPY_CLIENT_ID\"] = cid\n",
    "os.environ[\"SPOTIPY_CLIENT_SECRET\"] = secret\n",
    "os.environ[\"SPOTIPY_REDIRECT_URI\"] = \"http://localhost:8081\"\n",
    "\n",
    "\n",
    "sp = spotipy.Spotify(auth_manager=SpotifyOAuth(scope=scope))  "
   ]
  },
  {
   "cell_type": "code",
   "execution_count": 40,
   "metadata": {},
   "outputs": [
    {
     "name": "stdout",
     "output_type": "stream",
     "text": [
      "Dominic Fike - alternative pop rock\n",
      "Steve Lacy - afrofuturism\n",
      "The Weeknd - canadian contemporary r&b\n",
      "Mother Mother - indie pop\n",
      "Labrinth - indie poptimism\n",
      "Digital Daggers - fnaf\n",
      "Daniel Caesar - canadian contemporary r&b\n",
      "Kendrick Lamar - conscious hip hop\n",
      "Doja Cat - dance pop\n",
      "Filipe Ret - pop rap brasileiro\n",
      "Tyler, The Creator - hip hop\n",
      "BROCKHAMPTON - boy band\n",
      "Tim Bernardes - nova mpb\n",
      "Frank Ocean - alternative r&b\n",
      "Mac Miller - hip hop\n",
      "KAYTRANADA - escape room\n",
      "Baco Exu do Blues - brazilian hip hop\n",
      "The Internet - alternative r&b\n",
      "Glass Animals - gauze pop\n",
      "Tame Impala - australian psych\n"
     ]
    }
   ],
   "source": [
    "results = sp.current_user_top_artists()\n",
    "for item in results['items']:\n",
    "    print(item['name'],\"-\",item['genres'][0])\n"
   ]
  },
  {
   "cell_type": "code",
   "execution_count": 37,
   "metadata": {},
   "outputs": [
    {
     "name": "stdout",
     "output_type": "stream",
     "text": [
      "Tim Bernardes - Abertura (Recomeçar)\n",
      "Liana Flores - rises the moon\n",
      "Yellow Claw - Love & War (feat. Yade Lauren) [Yellow Claw G-Funk Remix]\n",
      "MF DOOM - Rapp Snitch Knishes feat. Mr. Fantastik\n",
      "Steve Lacy - Infrunami\n",
      "Petit Biscuit - You\n",
      "Tim Bernardes - Recomeçar\n",
      "The Internet - Hold On\n",
      "Vacations - Telephones\n",
      "Halou - Honeythief\n",
      "FBC - Delírios\n",
      "MGMT - Little Dark Age\n",
      "lil indo - The Beach (Instrumental/Slowed/Muffled)\n",
      "DJ Matt D - Pandora\n",
      "Men I Trust - Show Me How\n",
      "Cafuné - Tek It\n",
      "劳力士 - The Beach\n",
      "Lucky Daye - Over\n",
      "Dominic Fike - 3 Nights\n",
      "Mac Miller - Congratulations (feat. Bilal)\n"
     ]
    }
   ],
   "source": [
    "results = sp.current_user_top_tracks()\n",
    "\n",
    "for item in results['items']:\n",
    "    print(item[\"artists\"][0][\"name\"],'-', item['name'])"
   ]
  },
  {
   "cell_type": "code",
   "execution_count": null,
   "metadata": {},
   "outputs": [],
   "source": []
  }
 ],
 "metadata": {
  "kernelspec": {
   "display_name": "Python 3.8.10 ('venv': venv)",
   "language": "python",
   "name": "python3"
  },
  "language_info": {
   "codemirror_mode": {
    "name": "ipython",
    "version": 3
   },
   "file_extension": ".py",
   "mimetype": "text/x-python",
   "name": "python",
   "nbconvert_exporter": "python",
   "pygments_lexer": "ipython3",
   "version": "3.8.10"
  },
  "orig_nbformat": 4,
  "vscode": {
   "interpreter": {
    "hash": "f81b025b5a4803d0819800d1847fa974fa9ff78c7f48f4a3fbfff52fa7c9fa71"
   }
  }
 },
 "nbformat": 4,
 "nbformat_minor": 2
}
