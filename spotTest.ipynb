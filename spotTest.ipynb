{
 "cells": [
  {
   "cell_type": "markdown",
   "metadata": {},
   "source": [
    "Imports:"
   ]
  },
  {
   "cell_type": "code",
   "execution_count": 7,
   "metadata": {},
   "outputs": [],
   "source": [
    "import spotipy\n",
    "from spotipy.oauth2 import SpotifyOAuth\n",
    "import os\n",
    "import pandas as pd\n",
    "import numpy as np\n",
    "import seaborn as sns\n",
    "import matplotlib.pyplot as plt\n",
    "import collections\n",
    "from flask import Flask\n",
    "import plotly.express as px\n",
    "import csv"
   ]
  },
  {
   "cell_type": "markdown",
   "metadata": {},
   "source": [
    "Authorization and keys:"
   ]
  },
  {
   "cell_type": "code",
   "execution_count": 8,
   "metadata": {},
   "outputs": [],
   "source": [
    "cid = '8d9f7c353d334348be49fad3dbb5604c'\n",
    "secret = '0c2027d1892b4589aa863ec6f8594e21'\n",
    "scope = \"user-top-read\"\n",
    "\n",
    "\n",
    "os.environ[\"SPOTIPY_CLIENT_ID\"] = cid\n",
    "os.environ[\"SPOTIPY_CLIENT_SECRET\"] = secret\n",
    "os.environ[\"SPOTIPY_REDIRECT_URI\"] = \"http://localhost:8081\"\n",
    "\n",
    "\n",
    "sp = spotipy.Spotify(auth_manager=SpotifyOAuth(scope=scope))  "
   ]
  },
  {
   "cell_type": "markdown",
   "metadata": {},
   "source": [
    "Tests:"
   ]
  },
  {
   "cell_type": "code",
   "execution_count": 9,
   "metadata": {},
   "outputs": [
    {
     "name": "stdout",
     "output_type": "stream",
     "text": [
      "[{'name': 'Nathaniel Merriweather', 'popularity': 41}, {'name': 'Have A Nice Life', 'popularity': 50}, {'name': 'BROCKHAMPTON', 'popularity': 68}, {'name': 'Justin Timberlake', 'popularity': 78}, {'name': 'Cafuné', 'popularity': 68}, {'name': 'Phoebe Bridgers', 'popularity': 73}, {'name': 'Lana Del Rey', 'popularity': 84}, {'name': 'Glass Animals', 'popularity': 80}, {'name': 'Gerardo Millán', 'popularity': 55}, {'name': 'Kendrick Lamar', 'popularity': 91}]\n"
     ]
    }
   ],
   "source": [
    "results = sp.current_user_top_artists(limit=10, offset=0, time_range='short_term')\n",
    "\n",
    "spotPop = ['name', 'popularity']\n",
    "\n",
    "pop = []\n",
    "for item in results['items']:\n",
    "    pop.append( {'name': item[\"name\"],'popularity': item[\"popularity\"]} )\n",
    "\n",
    "\n",
    "popsorted = (sorted(pop, key=lambda d: d['popularity'])) \n",
    "\n",
    "print(pop)\n",
    "\n",
    "with open('topArtists.csv', 'w') as csvfile:\n",
    "    writer = csv.DictWriter(csvfile, fieldnames = spotPop)\n",
    "    writer.writeheader()\n",
    "    writer.writerows(popsorted)\n"
   ]
  },
  {
   "cell_type": "code",
   "execution_count": 12,
   "metadata": {},
   "outputs": [],
   "source": [
    "results = sp.current_user_top_artists(limit=36, offset=0, time_range='short_term')\n",
    "\n",
    "top_genres = ['genre']\n",
    "\n",
    "for item in results['items']:\n",
    "    top_genres.extend(item['genres'])\n",
    "\n",
    "c = collections.Counter(top_genres)\n",
    "\n",
    "sort = dict(reversed((sorted(c.items(), key=lambda x:x[1]))))\n",
    "\n",
    "top10 = dict(reversed(list(sort.items())[0: 10]))\n",
    "\n",
    "top10Genres = ['genre', 'popularity']\n",
    "genre = []\n",
    "for k, v in top10.items():\n",
    "    genre.append( {'genre': k,'popularity': v} )\n",
    "\n",
    "\n",
    "with open('topGenres.csv', 'w') as csvfile:\n",
    "    writer = csv.DictWriter(csvfile, fieldnames = top10Genres)\n",
    "    writer.writeheader()\n",
    "    writer.writerows(genre)\n"
   ]
  },
  {
   "cell_type": "code",
   "execution_count": 14,
   "metadata": {},
   "outputs": [
    {
     "ename": "TypeError",
     "evalue": "list indices must be integers or slices, not str",
     "output_type": "error",
     "traceback": [
      "\u001b[0;31m---------------------------------------------------------------------------\u001b[0m",
      "\u001b[0;31mTypeError\u001b[0m                                 Traceback (most recent call last)",
      "\u001b[1;32m/home/arthur/datavis/spotTest.ipynb Cell 8'\u001b[0m in \u001b[0;36m<cell line: 6>\u001b[0;34m()\u001b[0m\n\u001b[1;32m      <a href='vscode-notebook-cell://wsl%2Bubuntu-20.04/home/arthur/datavis/spotTest.ipynb#ch0000007vscode-remote?line=4'>5</a>\u001b[0m pop \u001b[39m=\u001b[39m []\n\u001b[1;32m      <a href='vscode-notebook-cell://wsl%2Bubuntu-20.04/home/arthur/datavis/spotTest.ipynb#ch0000007vscode-remote?line=5'>6</a>\u001b[0m \u001b[39mfor\u001b[39;00m item \u001b[39min\u001b[39;00m results[\u001b[39m'\u001b[39m\u001b[39mitems\u001b[39m\u001b[39m'\u001b[39m]:\n\u001b[0;32m----> <a href='vscode-notebook-cell://wsl%2Bubuntu-20.04/home/arthur/datavis/spotTest.ipynb#ch0000007vscode-remote?line=6'>7</a>\u001b[0m     pop\u001b[39m.\u001b[39mappend( {\u001b[39m'\u001b[39m\u001b[39martists\u001b[39m\u001b[39m'\u001b[39m: item[\u001b[39m\"\u001b[39;49m\u001b[39martists\u001b[39;49m\u001b[39m\"\u001b[39;49m][\u001b[39m\"\u001b[39;49m\u001b[39mname\u001b[39;49m\u001b[39m\"\u001b[39;49m], \u001b[39m'\u001b[39m\u001b[39mname\u001b[39m\u001b[39m'\u001b[39m: item[\u001b[39m\"\u001b[39m\u001b[39mname\u001b[39m\u001b[39m\"\u001b[39m],\u001b[39m'\u001b[39m\u001b[39mpopularity\u001b[39m\u001b[39m'\u001b[39m: item[\u001b[39m\"\u001b[39m\u001b[39mpopularity\u001b[39m\u001b[39m\"\u001b[39m]} )\n\u001b[1;32m     <a href='vscode-notebook-cell://wsl%2Bubuntu-20.04/home/arthur/datavis/spotTest.ipynb#ch0000007vscode-remote?line=9'>10</a>\u001b[0m popsorted \u001b[39m=\u001b[39m (\u001b[39msorted\u001b[39m(pop, key\u001b[39m=\u001b[39m\u001b[39mlambda\u001b[39;00m d: d[\u001b[39m'\u001b[39m\u001b[39mpopularity\u001b[39m\u001b[39m'\u001b[39m])) \n\u001b[1;32m     <a href='vscode-notebook-cell://wsl%2Bubuntu-20.04/home/arthur/datavis/spotTest.ipynb#ch0000007vscode-remote?line=11'>12</a>\u001b[0m \u001b[39mprint\u001b[39m(pop)\n",
      "\u001b[0;31mTypeError\u001b[0m: list indices must be integers or slices, not str"
     ]
    }
   ],
   "source": [
    "results = sp.current_user_top_tracks(limit=10, offset=0, time_range='short_term')\n",
    "\n",
    "spotPop = ['artists','name', 'popularity']\n",
    "\n",
    "pop = []\n",
    "for item in results['items']:\n",
    "    pop.append( {'artists': item[\"artists\"][0][\"name\"], 'name': item[\"name\"],'popularity': item[\"popularity\"]} )\n",
    "\n",
    "\n",
    "popsorted = (sorted(pop, key=lambda d: d['popularity'])) \n",
    "\n",
    "print(pop)\n",
    "\n",
    "with open('topTracks.csv', 'w') as csvfile:\n",
    "    writer = csv.DictWriter(csvfile, fieldnames = spotPop)\n",
    "    writer.writeheader()\n",
    "    writer.writerows(popsorted)\n"
   ]
  }
 ],
 "metadata": {
  "kernelspec": {
   "display_name": "Python 3.8.10 ('venv': venv)",
   "language": "python",
   "name": "python3"
  },
  "language_info": {
   "codemirror_mode": {
    "name": "ipython",
    "version": 3
   },
   "file_extension": ".py",
   "mimetype": "text/x-python",
   "name": "python",
   "nbconvert_exporter": "python",
   "pygments_lexer": "ipython3",
   "version": "3.8.10"
  },
  "orig_nbformat": 4,
  "vscode": {
   "interpreter": {
    "hash": "f81b025b5a4803d0819800d1847fa974fa9ff78c7f48f4a3fbfff52fa7c9fa71"
   }
  }
 },
 "nbformat": 4,
 "nbformat_minor": 2
}
